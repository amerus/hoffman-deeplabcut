{
 "cells": [
  {
   "cell_type": "markdown",
   "metadata": {},
   "source": [
    "# Here is a Notebook to check your Docker container"
   ]
  },
  {
   "cell_type": "code",
   "execution_count": 1,
   "metadata": {},
   "outputs": [],
   "source": [
    "import tensorflow as tf "
   ]
  },
  {
   "cell_type": "code",
   "execution_count": 2,
   "metadata": {},
   "outputs": [
    {
     "data": {
      "text/plain": [
       "'1.8.0'"
      ]
     },
     "execution_count": 2,
     "metadata": {},
     "output_type": "execute_result"
    }
   ],
   "source": [
    "# Which version of TF do I have installed?\n",
    "\n",
    "tf.__version__\n"
   ]
  },
  {
   "cell_type": "code",
   "execution_count": 3,
   "metadata": {},
   "outputs": [],
   "source": [
    "# can I start a TF session?\n",
    "\n",
    "sess = tf.Session(config=tf.ConfigProto(log_device_placement=True))"
   ]
  },
  {
   "cell_type": "markdown",
   "metadata": {},
   "source": [
    "to check the output, go to the terminal and type: "
   ]
  },
  {
   "cell_type": "raw",
   "metadata": {},
   "source": [
    "## $ docker logs yourcontainername "
   ]
  },
  {
   "cell_type": "markdown",
   "metadata": {},
   "source": [
    "It should look something like this: \n",
    "\n",
    "...\n",
    "\n",
    "name: GeForce GTX 1080\n",
    "\n",
    "major: 6 minor: 1 memoryClockRate (GHz) 1.835\n",
    "\n",
    "pciBusID 0000:0c:00.0\n",
    "\n",
    "Total memory: 7.92GiB\n",
    "\n",
    "Free memory: 7.80GiB\n",
    "\n",
    ": I tensorflow/core/common_runtime/gpu/gpu_device.cc:961] DMA: 0 \n",
    "\n",
    ": I tensorflow/core/common_runtime/gpu/gpu_device.cc:971] 0:   Y \n",
    "\n",
    ": I tensorflow/core/common_runtime/gpu/gpu_device.cc:1030] Creating TensorFlow device (/gpu:0) -> (device: 0, name: GeForce GTX 1080, pci bus id: 0000:0c:00.0)\n",
    "\n",
    ": I tensorflow/core/common_runtime/direct_session.cc:265] Device mapping:\n",
    "\n",
    "/job:localhost/replica:0/task:0/gpu:0 -> device: 0, name: GeForce GTX 1080, pci bus id: 0000:0c:00.0\n"
   ]
  },
  {
   "cell_type": "code",
   "execution_count": 5,
   "metadata": {},
   "outputs": [],
   "source": [
    "# clear the session:\n",
    "\n",
    "tf.reset_default_graph()"
   ]
  },
  {
   "cell_type": "code",
   "execution_count": 10,
   "metadata": {},
   "outputs": [
    {
     "name": "stdout",
     "output_type": "stream",
     "text": [
      "['absl-py==0.1.10', 'astor==0.7.1', 'backcall==0.1.0', 'bleach==1.5.0', 'boltons==17.2.0', 'certifi==2018.10.15', 'chardet==3.0.4', 'click==6.7', 'cloudpickle==0.6.1', 'cycler==0.10.0', 'dask==0.20.0', 'decorator==4.2.1', 'deeplabcut==0.0.dev1', 'easydict==1.7', 'entrypoints==0.2.3', 'gast==0.2.0', 'grpcio==1.16.0', 'h5py==2.8.0', 'html5lib==0.9999999', 'idna==2.7', 'imageio==2.3.0', 'intel-openmp==2018.0.3', 'ipykernel==4.8.2', 'ipython-genutils==0.2.0', 'ipython==6.4.0', 'ipywidgets==7.1.2', 'jedi==0.11.1', 'jinja2==2.10', 'jsonschema==2.6.0', 'jupyter-client==5.2.2', 'jupyter-console==5.2.0', 'jupyter-contrib-core==0.3.3', 'jupyter-contrib-nbextensions==0.4.0', 'jupyter-core==4.4.0', 'jupyter-highlight-selected-word==0.1.0', 'jupyter-latex-envs==1.4.3', 'jupyter-nbextensions-configurator==0.4.0', 'jupyter==1.0.0', 'jupyterlab-launcher==0.10.5', 'jupyterlab==0.31.8', 'kiwisolver==1.0.1', 'lasagne==0.2.dev1', 'lxml==4.1.1', 'markdown==2.6.11', 'markupsafe==1.0', 'matplotlib==2.2.2', 'mistune==0.8.3', 'moviepy==0.2.3.5', 'mypy==0.560', 'nbconvert==5.3.1', 'nbformat==4.4.0', 'networkx==2.2', 'notebook==5.4.0', 'numexpr==2.6.8', 'numpy==1.15.3', 'opencv-python==3.4.1.15', 'pandas==0.23.1', 'pandocfilters==1.4.2', 'parso==0.1.1', 'patsy==0.5.1', 'pexpect==4.4.0', 'pickleshare==0.7.4', 'pillow==5.0.0', 'pip==9.0.1', 'prompt-toolkit==1.0.15', 'protobuf==3.5.1', 'psutil==5.4.3', 'ptyprocess==0.5.2', 'pycurl==7.43.0', 'pygments==2.2.0', 'pygobject==3.20.0', 'pyparsing==2.2.0', 'python-apt==1.1.0b1', 'python-dateutil==2.7.3', 'pytz==2018.3', 'pywavelets==1.0.1', 'pyyaml==3.12', 'pyzmq==17.0.0', 'qtconsole==4.3.1', 'requests==2.20.0', 'scikit-image==0.14.0', 'scikit-learn==0.19.2', 'scipy==1.1.0', 'seaborn==0.8.1', 'send2trash==1.5.0', 'setuptools==38.5.1', 'simplegeneric==0.8.1', 'six==1.11.0', 'sk-video==1.1.10', 'sklearn==0.0', 'statsmodels==0.9.0', 'tables==3.4.4', 'tensorboard==1.8.0', 'tensorflow-gpu==1.8.0', 'tensorflow-tensorboard==1.5.1', 'termcolor==1.1.0', 'terminado==0.8.1', 'testpath==0.3.1', 'theano==1.0.1', 'toolz==0.9.0', 'torch==0.3.1', 'torchvision==0.2.0', 'tornado==4.5.3', 'tqdm==4.23.4', 'traitlets==4.3.2', 'typed-ast==1.1.0', 'urllib3==1.24', 'wcwidth==0.1.7', 'webencodings==0.5.1', 'werkzeug==0.14.1', 'wheel==0.31.1', 'widgetsnbextension==3.1.4']\n"
     ]
    }
   ],
   "source": [
    "# if you want to know what else is installed inside the container:\n",
    "\n",
    "import pip\n",
    "installed_packages = pip.get_installed_distributions()\n",
    "installed_packages_list = sorted([\"%s==%s\" % (i.key, i.version)\n",
    "     for i in installed_packages])\n",
    "print(installed_packages_list)"
   ]
  },
  {
   "cell_type": "code",
   "execution_count": null,
   "metadata": {},
   "outputs": [],
   "source": []
  }
 ],
 "metadata": {
  "kernelspec": {
   "display_name": "Python 3",
   "language": "python",
   "name": "python3"
  },
  "language_info": {
   "codemirror_mode": {
    "name": "ipython",
    "version": 3
   },
   "file_extension": ".py",
   "mimetype": "text/x-python",
   "name": "python",
   "nbconvert_exporter": "python",
   "pygments_lexer": "ipython3",
   "version": "3.6.3"
  },
  "varInspector": {
   "cols": {
    "lenName": 16,
    "lenType": 16,
    "lenVar": 40
   },
   "kernels_config": {
    "python": {
     "delete_cmd_postfix": "",
     "delete_cmd_prefix": "del ",
     "library": "var_list.py",
     "varRefreshCmd": "print(var_dic_list())"
    },
    "r": {
     "delete_cmd_postfix": ") ",
     "delete_cmd_prefix": "rm(",
     "library": "var_list.r",
     "varRefreshCmd": "cat(var_dic_list()) "
    }
   },
   "types_to_exclude": [
    "module",
    "function",
    "builtin_function_or_method",
    "instance",
    "_Feature"
   ],
   "window_display": false
  }
 },
 "nbformat": 4,
 "nbformat_minor": 2
}
